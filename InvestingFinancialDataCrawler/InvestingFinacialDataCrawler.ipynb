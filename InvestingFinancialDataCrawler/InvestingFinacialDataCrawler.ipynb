{
 "cells": [
  {
   "cell_type": "markdown",
   "metadata": {},
   "source": [
    "# Crawler Financial Brazilian Indices \n"
   ]
  },
  {
   "cell_type": "code",
   "execution_count": null,
   "metadata": {},
   "outputs": [],
   "source": [
    "#libraries\n",
    "\n",
    "import selenium\n",
    "from selenium import webdriver\n",
    "from selenium.webdriver.support import expected_conditions as EC\n",
    "from selenium.webdriver.support.ui import WebDriverWait\n",
    "from selenium.webdriver.common.by import By\n",
    "from selenium.webdriver.support.ui import Select\n",
    "from selenium.common.exceptions import TimeoutException\n",
    "import time\n",
    "\n",
    "#to manipule data files\n",
    "import os\n",
    "import pandas as pd"
   ]
  },
  {
   "cell_type": "code",
   "execution_count": null,
   "metadata": {},
   "outputs": [],
   "source": [
    "driver = webdriver.Firefox(executable_path=\"/home/wesley/MEGAsync/PortfolioGithub/TesteCognitivo/notebooks/geckodriver-v0.29.0-linux64/geckodriver\")"
   ]
  },
  {
   "cell_type": "code",
   "execution_count": null,
   "metadata": {},
   "outputs": [],
   "source": [
    "#open web page \n",
    "driver.get(\"https://www.investing.com/indices/\")"
   ]
  },
  {
   "cell_type": "code",
   "execution_count": null,
   "metadata": {},
   "outputs": [],
   "source": [
    "#after open, we received one alert - cokkies accepty\n",
    "alert = WebDriverWait(driver, 10).until(EC.element_to_be_clickable((By.XPATH, '//*[@id=\"onetrust-accept-btn-handler\"]'))).click()\n",
    "time.sleep(10)"
   ]
  },
  {
   "cell_type": "code",
   "execution_count": null,
   "metadata": {},
   "outputs": [],
   "source": [
    "#after open, we received one alert - cokkies accepty\n",
    "login = WebDriverWait(driver, 10).until(EC.element_to_be_clickable((By.XPATH, '/html/body/div[5]/header/div[1]/div/div[4]/span[1]/div/a[1]'))).click()"
   ]
  },
  {
   "cell_type": "code",
   "execution_count": null,
   "metadata": {},
   "outputs": [],
   "source": [
    "username = WebDriverWait(driver, 10).until(EC.element_to_be_clickable((By.CSS_SELECTOR, \"input[name='loginFormUser_email']\")))"
   ]
  },
  {
   "cell_type": "code",
   "execution_count": null,
   "metadata": {},
   "outputs": [],
   "source": [
    "userpassword = WebDriverWait(driver, 10).until(EC.element_to_be_clickable((By.CSS_SELECTOR, \"input[id='loginForm_password']\")))"
   ]
  },
  {
   "cell_type": "code",
   "execution_count": null,
   "metadata": {},
   "outputs": [],
   "source": [
    "#lets to log in investing website- put your personal acess\n",
    "username.clear()\n",
    "username.send_keys(\"j******@gmail.com\")\n",
    "userpassword.clear()\n",
    "userpassword.send_keys(\"*******\")"
   ]
  },
  {
   "cell_type": "code",
   "execution_count": null,
   "metadata": {},
   "outputs": [],
   "source": [
    "#Now let's target th ebutton login and click it\n",
    "button = WebDriverWait(driver, 10).until(EC.element_to_be_clickable((By.XPATH, \"/html/body/div[8]/div[2]/a\"))).click()\n",
    "\n",
    "#time for page to load\n",
    "time.sleep(10)\n"
   ]
  },
  {
   "cell_type": "code",
   "execution_count": null,
   "metadata": {},
   "outputs": [],
   "source": [
    "# List all countries\n",
    "all_countries = Select(driver.find_element_by_xpath('/html/body/div[5]/section/div[5]/div[2]/div[1]/select'))\n",
    "all_countries.select_by_visible_text('Brazil')\n",
    "time.sleep(3)"
   ]
  },
  {
   "cell_type": "markdown",
   "metadata": {},
   "source": [
    "## Select all time series of financial indices  "
   ]
  },
  {
   "cell_type": "code",
   "execution_count": null,
   "metadata": {},
   "outputs": [],
   "source": [
    "checbox1 = WebDriverWait(driver, 10).until(EC.element_to_be_clickable((By.CSS_SELECTOR, \"div.filter:nth-child(4) > fieldset:nth-child(1) > input:nth-child(1)\"))).click()\n",
    "time.sleep(2)"
   ]
  },
  {
   "cell_type": "code",
   "execution_count": null,
   "metadata": {},
   "outputs": [],
   "source": [
    "checbox2 = WebDriverWait(driver, 10).until(EC.element_to_be_clickable((By.CSS_SELECTOR, \"div.filter:nth-child(4) > fieldset:nth-child(2) > input:nth-child(1)\"))).click()\n",
    "time.sleep(2)"
   ]
  },
  {
   "cell_type": "code",
   "execution_count": null,
   "metadata": {},
   "outputs": [],
   "source": [
    "checbox3 = WebDriverWait(driver, 10).until(EC.element_to_be_clickable((By.CSS_SELECTOR, \"div.filter:nth-child(5) > fieldset:nth-child(1) > input:nth-child(1)\"))).click()\n",
    "time.sleep(2)"
   ]
  },
  {
   "cell_type": "code",
   "execution_count": null,
   "metadata": {},
   "outputs": [],
   "source": [
    "checbox4 = WebDriverWait(driver, 10).until(EC.element_to_be_clickable((By.CSS_SELECTOR, \"div.filter:nth-child(5) > fieldset:nth-child(2) > input:nth-child(1)\"))).click()\n",
    "time.sleep(2)"
   ]
  },
  {
   "cell_type": "code",
   "execution_count": null,
   "metadata": {},
   "outputs": [],
   "source": [
    "search = WebDriverWait(driver, 10).until(EC.element_to_be_clickable((By.CSS_SELECTOR, \"a.newBtn:nth-child(7)\"))).click()\n",
    "time.sleep(2)"
   ]
  },
  {
   "cell_type": "markdown",
   "metadata": {},
   "source": [
    "## Get all data series and save into data file"
   ]
  },
  {
   "cell_type": "code",
   "execution_count": null,
   "metadata": {},
   "outputs": [],
   "source": [
    "rows = driver.find_elements_by_xpath(\"//table[@id='cr1']/tbody/tr\")\n",
    "number_of_rows = len(rows)"
   ]
  },
  {
   "cell_type": "code",
   "execution_count": null,
   "metadata": {},
   "outputs": [],
   "source": [
    "for i in range(1, number_of_rows+1):\n",
    "    index = WebDriverWait(driver, 10).until(EC.element_to_be_clickable((By.XPATH, f\"/html/body/div[5]/section/table/tbody/tr/td/table/tbody/tr[{i}]/td[2]/a\"))).click()\n",
    "    time.sleep(10)\n",
    "    try:\n",
    "        historic_data = WebDriverWait(driver, 10).until(EC.element_to_be_clickable((By.XPATH, \"/html/body/div[5]/section/ul[2]/li[3]/a\"))).click()\n",
    "        date = WebDriverWait(driver, 10).until(EC.element_to_be_clickable((By.XPATH, \"/html/body/div[5]/section/div[8]/div[3]/div/div[2]/span\"))).click()\n",
    "        time.sleep(5)\n",
    "        #lets to log in investing website- put your personal acess\n",
    "        init_date = WebDriverWait(driver, 10).until(EC.element_to_be_clickable((By.CSS_SELECTOR, \"input[id='startDate']\")))\n",
    "        init_date.clear()\n",
    "        init_date.send_keys(\"01/01/2000\")\n",
    "        end_date = WebDriverWait(driver, 10).until(EC.element_to_be_clickable((By.CSS_SELECTOR, \"input[id='endDate']\")))\n",
    "        time.sleep(2)\n",
    "        end_date.clear()\n",
    "        end_date.send_keys(\"04/29/2021\")\n",
    "        apply_date = WebDriverWait(driver, 10).until(EC.element_to_be_clickable((By.XPATH, \"//*[@id='applyBtn']\"))).click()\n",
    "        time.sleep(5)\n",
    "        downloading_date = WebDriverWait(driver, 20).until(EC.element_to_be_clickable((By.XPATH, \"/html/body/div[5]/section/div[8]/div[4]/div/a\"))).click()\n",
    "        time.sleep(10)\n",
    "        print(\"Serie:\",i)\n",
    "        driver.get(\"https://www.investing.com/indices/brazil-indices?&majorIndices=on&primarySectors=on&additionalIndices=on&otherIndices=on\")\n",
    "    \n",
    "    except TimeoutException:\n",
    "        historic_data = WebDriverWait(driver, 10).until(EC.element_to_be_clickable((By.XPATH, \"/html/body/div[5]/section/ul[2]/li[2]/a\"))).click()\n",
    "        date = WebDriverWait(driver, 10).until(EC.element_to_be_clickable((By.XPATH, \"/html/body/div[5]/section/div[8]/div[3]/div/div[2]/span\"))).click()\n",
    "        time.sleep(5)\n",
    "        #lets to log in investing website- put your personal acess\n",
    "        init_date = WebDriverWait(driver, 10).until(EC.element_to_be_clickable((By.CSS_SELECTOR, \"input[id='startDate']\")))\n",
    "        init_date.clear()\n",
    "        init_date.send_keys(\"01/01/2000\")\n",
    "        end_date = WebDriverWait(driver, 10).until(EC.element_to_be_clickable((By.CSS_SELECTOR, \"input[id='endDate']\")))\n",
    "        time.sleep(2)\n",
    "        end_date.clear()\n",
    "        end_date.send_keys(\"04/29/2021\")\n",
    "        apply_date = WebDriverWait(driver, 10).until(EC.element_to_be_clickable((By.XPATH, \"//*[@id='applyBtn']\"))).click()\n",
    "        time.sleep(5)\n",
    "        try:\n",
    "            downloading_date = WebDriverWait(driver, 20).until(EC.element_to_be_clickable((By.XPATH, \"/html/body/div[5]/section/div[8]/div[4]/div/a\"))).click()\n",
    "            time.sleep(10)\n",
    "            print(\"Try2:\",i)\n",
    "            driver.get(\"https://www.investing.com/indices/brazil-indices?&majorIndices=on&primarySectors=on&additionalIndices=on&otherIndices=on\")\n",
    "        except TimeoutException:\n",
    "            print(\"Except:\",i)\n",
    "            driver.get(\"https://www.investing.com/indices/brazil-indices?&majorIndices=on&primarySectors=on&additionalIndices=on&otherIndices=on\")\n",
    "            \n",
    "        \n",
    "    \n",
    "    "
   ]
  },
  {
   "cell_type": "markdown",
   "metadata": {},
   "source": [
    "# Organizar a Base de Dados"
   ]
  },
  {
   "cell_type": "code",
   "execution_count": null,
   "metadata": {},
   "outputs": [],
   "source": [
    "#Get all data files\n",
    "files = os.listdir(\"dataIndex\")"
   ]
  },
  {
   "cell_type": "code",
   "execution_count": null,
   "metadata": {},
   "outputs": [],
   "source": [
    "data_index = pd.read_csv(f\"dataIndex/{files[1]}\", usecols=['Date', 'Price'])\n",
    "data_index.rename(columns= {'Price': f'{files[1][:-4]}'}, inplace=True)\n",
    "\n",
    "#Merge all datasets\n",
    "for file in files[2:27]: \n",
    "    data_index1 = pd.read_csv(f\"dataIndex/{file}\", usecols=['Date', 'Price'])\n",
    "    data_index1.rename(columns= {'Price': f'{file[:-4]}'}, inplace=True)\n",
    "    data_index = pd.merge(data_index, data_index1, on='Date', how='outer')"
   ]
  },
  {
   "cell_type": "code",
   "execution_count": null,
   "metadata": {},
   "outputs": [],
   "source": [
    "#Vizualitation of five first rows  \n",
    "data_index.head()"
   ]
  },
  {
   "cell_type": "code",
   "execution_count": null,
   "metadata": {},
   "outputs": [],
   "source": [
    "#Save into csv data file.\n",
    "data_index.to_csv('Dados_historicos_indices_financeiros_brasileiros.csv', index=False)"
   ]
  }
 ],
 "metadata": {
  "kernelspec": {
   "display_name": "Python 3",
   "language": "python",
   "name": "python3"
  },
  "language_info": {
   "codemirror_mode": {
    "name": "ipython",
    "version": 3
   },
   "file_extension": ".py",
   "mimetype": "text/x-python",
   "name": "python",
   "nbconvert_exporter": "python",
   "pygments_lexer": "ipython3",
   "version": "3.8.5"
  }
 },
 "nbformat": 4,
 "nbformat_minor": 4
}
